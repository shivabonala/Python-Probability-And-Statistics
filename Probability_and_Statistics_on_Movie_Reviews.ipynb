{
 "cells": [
  {
   "cell_type": "markdown",
   "metadata": {},
   "source": [
    "## Python Distribution And Sampling on Movie Reviews\n",
    "We will be working on fandango_score_comparison.csv which was originally created from FiveThirtyEight Github account. Each row represents a single movie. Each column contains information about how the online moview review services RottenTomatoes, Metacritic, IMDB, and Fandango rated the movie. Typically, the primary score shown by the sites will be the Critic score. Here are descriptions of some of the relevant columns in the dataset:\n",
    "\n",
    "FILM -- the name of the movie.\n",
    "\n",
    "RottenTomatoes -- the RottenTomatoes (RT) critic score.\n",
    "\n",
    "RottenTomatoes_User -- the RT user score.\n",
    "\n",
    "Metacritic -- the Metacritic critic score.\n",
    "\n",
    "Metacritic_User -- the Metacritic user score.\n",
    "\n",
    "IMDB -- the IMDB score given to the movie.\n",
    "\n",
    "Fandango_Stars -- the number of stars Fandango gave the movie."
   ]
  },
  {
   "cell_type": "code",
   "execution_count": 4,
   "metadata": {
    "collapsed": true
   },
   "outputs": [],
   "source": [
    "import matplotlib.pyplot as plt\n",
    "%matplotlib inline\n",
    "import pandas as pd\n",
    "import numpy as np\n",
    "movies = pd.read_csv(\"Probability_and_Statistics_in_Python\\\\fandango_score_comparison.csv\")\n"
   ]
  },
  {
   "cell_type": "code",
   "execution_count": 6,
   "metadata": {},
   "outputs": [
    {
     "data": {
      "image/png": "[encoded data removed]",
      "text/plain": [
       "<matplotlib.figure.Figure at 0x19cb5f0bba8>"
      ]
     },
     "metadata": {},
     "output_type": "display_data"
    }
   ],
   "source": [
    "plt.hist(movies[\"Metacritic_norm_round\"]);"
   ]
  },
  {
   "cell_type": "code",
   "execution_count": 7,
   "metadata": {},
   "outputs": [
    {
     "data": {
      "image/png": "[encoded data removed]",
      "text/plain": [
       "<matplotlib.figure.Figure at 0x19cb5f0bd68>"
      ]
     },
     "metadata": {},
     "output_type": "display_data"
    }
   ],
   "source": [
    "plt.hist(movies[\"Fandango_Stars\"]);"
   ]
  },
  {
   "cell_type": "code",
   "execution_count": 9,
   "metadata": {},
   "outputs": [
    {
     "name": "stdout",
     "output_type": "stream",
     "text": [
      "4.089041095890411\n",
      "2.9726027397260273\n"
     ]
    }
   ],
   "source": [
    "# calcualte mean,median and sd \n",
    "\n",
    "fandango_mean = movies[\"Fandango_Stars\"].mean()\n",
    "meta_mean = movies[\"Metacritic_norm_round\"].mean()\n",
    "\n",
    "print(fandango_mean)\n",
    "\n",
    "print(meta_mean)"
   ]
  },
  {
   "cell_type": "code",
   "execution_count": 10,
   "metadata": {},
   "outputs": [
    {
     "name": "stdout",
     "output_type": "stream",
     "text": [
      "4.0\n",
      "3.0\n"
     ]
    }
   ],
   "source": [
    "fandango_median = movies[\"Fandango_Stars\"].median()\n",
    "meta_median = movies[\"Metacritic_norm_round\"].median()\n",
    "\n",
    "print(fandango_median)\n",
    "print(meta_median)"
   ]
  },
  {
   "cell_type": "code",
   "execution_count": 12,
   "metadata": {},
   "outputs": [
    {
     "name": "stdout",
     "output_type": "stream",
     "text": [
      "0.5403859779787333\n",
      "0.9909605613743364\n"
     ]
    }
   ],
   "source": [
    "fandango_std = movies[\"Fandango_Stars\"].std()\n",
    "meta_std = movies[\"Metacritic_norm_round\"].std()\n",
    "\n",
    "print(fandango_std)\n",
    "\n",
    "print(meta_std)"
   ]
  },
  {
   "cell_type": "code",
   "execution_count": 28,
   "metadata": {},
   "outputs": [
    {
     "data": {
      "text/html": [
       "<div>\n",
       "<style>\n",
       "    .dataframe thead tr:only-child th {\n",
       "        text-align: right;\n",
       "    }\n",
       "\n",
       "    .dataframe thead th {\n",
       "        text-align: left;\n",
       "    }\n",
       "\n",
       "    .dataframe tbody tr th {\n",
       "        vertical-align: top;\n",
       "    }\n",
       "</style>\n",
       "<table border=\"1\" class=\"dataframe\">\n",
       "  <thead>\n",
       "    <tr style=\"text-align: right;\">\n",
       "      <th></th>\n",
       "      <th>FILM</th>\n",
       "      <th>RottenTomatoes</th>\n",
       "      <th>RottenTomatoes_User</th>\n",
       "      <th>Metacritic</th>\n",
       "      <th>Metacritic_User</th>\n",
       "      <th>IMDB</th>\n",
       "      <th>Fandango_Stars</th>\n",
       "      <th>Fandango_Ratingvalue</th>\n",
       "      <th>RT_norm</th>\n",
       "      <th>RT_user_norm</th>\n",
       "      <th>...</th>\n",
       "      <th>RT_norm_round</th>\n",
       "      <th>RT_user_norm_round</th>\n",
       "      <th>Metacritic_norm_round</th>\n",
       "      <th>Metacritic_user_norm_round</th>\n",
       "      <th>IMDB_norm_round</th>\n",
       "      <th>Metacritic_user_vote_count</th>\n",
       "      <th>IMDB_user_vote_count</th>\n",
       "      <th>Fandango_votes</th>\n",
       "      <th>Fandango_Difference</th>\n",
       "      <th>abs_diff</th>\n",
       "    </tr>\n",
       "  </thead>\n",
       "  <tbody>\n",
       "    <tr>\n",
       "      <th>3</th>\n",
       "      <td>Do You Believe? (2015)</td>\n",
       "      <td>18</td>\n",
       "      <td>84</td>\n",
       "      <td>22</td>\n",
       "      <td>4.7</td>\n",
       "      <td>5.4</td>\n",
       "      <td>5.0</td>\n",
       "      <td>4.5</td>\n",
       "      <td>0.90</td>\n",
       "      <td>4.20</td>\n",
       "      <td>...</td>\n",
       "      <td>1.0</td>\n",
       "      <td>4.0</td>\n",
       "      <td>1.0</td>\n",
       "      <td>2.5</td>\n",
       "      <td>2.5</td>\n",
       "      <td>31</td>\n",
       "      <td>3136</td>\n",
       "      <td>1793</td>\n",
       "      <td>0.5</td>\n",
       "      <td>4.0</td>\n",
       "    </tr>\n",
       "    <tr>\n",
       "      <th>134</th>\n",
       "      <td>The Longest Ride (2015)</td>\n",
       "      <td>31</td>\n",
       "      <td>73</td>\n",
       "      <td>33</td>\n",
       "      <td>4.8</td>\n",
       "      <td>7.2</td>\n",
       "      <td>4.5</td>\n",
       "      <td>4.5</td>\n",
       "      <td>1.55</td>\n",
       "      <td>3.65</td>\n",
       "      <td>...</td>\n",
       "      <td>1.5</td>\n",
       "      <td>3.5</td>\n",
       "      <td>1.5</td>\n",
       "      <td>2.5</td>\n",
       "      <td>3.5</td>\n",
       "      <td>49</td>\n",
       "      <td>25214</td>\n",
       "      <td>2603</td>\n",
       "      <td>0.0</td>\n",
       "      <td>3.0</td>\n",
       "    </tr>\n",
       "    <tr>\n",
       "      <th>133</th>\n",
       "      <td>Paul Blart: Mall Cop 2 (2015)</td>\n",
       "      <td>5</td>\n",
       "      <td>36</td>\n",
       "      <td>13</td>\n",
       "      <td>2.4</td>\n",
       "      <td>4.3</td>\n",
       "      <td>3.5</td>\n",
       "      <td>3.5</td>\n",
       "      <td>0.25</td>\n",
       "      <td>1.80</td>\n",
       "      <td>...</td>\n",
       "      <td>0.5</td>\n",
       "      <td>2.0</td>\n",
       "      <td>0.5</td>\n",
       "      <td>1.0</td>\n",
       "      <td>2.0</td>\n",
       "      <td>211</td>\n",
       "      <td>15004</td>\n",
       "      <td>3054</td>\n",
       "      <td>0.0</td>\n",
       "      <td>3.0</td>\n",
       "    </tr>\n",
       "    <tr>\n",
       "      <th>35</th>\n",
       "      <td>The Loft (2015)</td>\n",
       "      <td>11</td>\n",
       "      <td>40</td>\n",
       "      <td>24</td>\n",
       "      <td>2.4</td>\n",
       "      <td>6.3</td>\n",
       "      <td>4.0</td>\n",
       "      <td>3.6</td>\n",
       "      <td>0.55</td>\n",
       "      <td>2.00</td>\n",
       "      <td>...</td>\n",
       "      <td>0.5</td>\n",
       "      <td>2.0</td>\n",
       "      <td>1.0</td>\n",
       "      <td>1.0</td>\n",
       "      <td>3.0</td>\n",
       "      <td>80</td>\n",
       "      <td>21319</td>\n",
       "      <td>811</td>\n",
       "      <td>0.4</td>\n",
       "      <td>3.0</td>\n",
       "    </tr>\n",
       "    <tr>\n",
       "      <th>15</th>\n",
       "      <td>Taken 3 (2015)</td>\n",
       "      <td>9</td>\n",
       "      <td>46</td>\n",
       "      <td>26</td>\n",
       "      <td>4.6</td>\n",
       "      <td>6.1</td>\n",
       "      <td>4.5</td>\n",
       "      <td>4.1</td>\n",
       "      <td>0.45</td>\n",
       "      <td>2.30</td>\n",
       "      <td>...</td>\n",
       "      <td>0.5</td>\n",
       "      <td>2.5</td>\n",
       "      <td>1.5</td>\n",
       "      <td>2.5</td>\n",
       "      <td>3.0</td>\n",
       "      <td>240</td>\n",
       "      <td>104235</td>\n",
       "      <td>6757</td>\n",
       "      <td>0.4</td>\n",
       "      <td>3.0</td>\n",
       "    </tr>\n",
       "  </tbody>\n",
       "</table>\n",
       "<p>5 rows × 23 columns</p>\n",
       "</div>"
      ],
      "text/plain": [
       "                              FILM  RottenTomatoes  RottenTomatoes_User  \\\n",
       "3           Do You Believe? (2015)              18                   84   \n",
       "134        The Longest Ride (2015)              31                   73   \n",
       "133  Paul Blart: Mall Cop 2 (2015)               5                   36   \n",
       "35                 The Loft (2015)              11                   40   \n",
       "15                  Taken 3 (2015)               9                   46   \n",
       "\n",
       "     Metacritic  Metacritic_User  IMDB  Fandango_Stars  Fandango_Ratingvalue  \\\n",
       "3            22              4.7   5.4             5.0                   4.5   \n",
       "134          33              4.8   7.2             4.5                   4.5   \n",
       "133          13              2.4   4.3             3.5                   3.5   \n",
       "35           24              2.4   6.3             4.0                   3.6   \n",
       "15           26              4.6   6.1             4.5                   4.1   \n",
       "\n",
       "     RT_norm  RT_user_norm    ...     RT_norm_round  RT_user_norm_round  \\\n",
       "3       0.90          4.20    ...               1.0                 4.0   \n",
       "134     1.55          3.65    ...               1.5                 3.5   \n",
       "133     0.25          1.80    ...               0.5                 2.0   \n",
       "35      0.55          2.00    ...               0.5                 2.0   \n",
       "15      0.45          2.30    ...               0.5                 2.5   \n",
       "\n",
       "     Metacritic_norm_round  Metacritic_user_norm_round  IMDB_norm_round  \\\n",
       "3                      1.0                         2.5              2.5   \n",
       "134                    1.5                         2.5              3.5   \n",
       "133                    0.5                         1.0              2.0   \n",
       "35                     1.0                         1.0              3.0   \n",
       "15                     1.5                         2.5              3.0   \n",
       "\n",
       "     Metacritic_user_vote_count  IMDB_user_vote_count  Fandango_votes  \\\n",
       "3                            31                  3136            1793   \n",
       "134                          49                 25214            2603   \n",
       "133                         211                 15004            3054   \n",
       "35                           80                 21319             811   \n",
       "15                          240                104235            6757   \n",
       "\n",
       "     Fandango_Difference  abs_diff  \n",
       "3                    0.5       4.0  \n",
       "134                  0.0       3.0  \n",
       "133                  0.0       3.0  \n",
       "35                   0.4       3.0  \n",
       "15                   0.4       3.0  \n",
       "\n",
       "[5 rows x 23 columns]"
      ]
     },
     "execution_count": 28,
     "metadata": {},
     "output_type": "execute_result"
    }
   ],
   "source": [
    "# Make a scatterplot that compares the Fandango_Stars column to the Metacritic_norm_round column.\n",
    "# print top 5 movies with the biggest differences between Fandango_Stars and Metacritic_norm_round.\n",
    "movies[\"abs_diff\"] = abs(movies[\"Fandango_Stars\"] - movies[\"Metacritic_norm_round\"])\n",
    "movies = movies.sort_values(by=\"abs_diff\",ascending=False)\n",
    "\n",
    "movies.head(5)\n"
   ]
  },
  {
   "cell_type": "code",
   "execution_count": 42,
   "metadata": {},
   "outputs": [
    {
     "name": "stdout",
     "output_type": "stream",
     "text": [
      "(0.17844919073895918, 0.031161516228523815)\n",
      "0.0973110779739 3.7997739189 0.178449190739\n",
      "4.09170715282\n"
     ]
    }
   ],
   "source": [
    "# calcualte the r value and linear regression to measure correlation between Fandango_Stars and Metacritic_norm_round \n",
    "\n",
    "from scipy.stats import pearsonr,linregress\n",
    "\n",
    "rvalue = pearsonr(movies[\"Metacritic_norm_round\"],movies[\"Fandango_Stars\"])\n",
    "print(rvalue)\n",
    "slope, intercept, r_value, p_value, std_err = linregress(movies[\"Metacritic_norm_round\"], movies[\"Fandango_Stars\"])\n",
    "print(slope,intercept,r_value)\n",
    "print(intercept+(slope*3))\n",
    "\n"
   ]
  },
  {
   "cell_type": "code",
   "execution_count": 48,
   "metadata": {},
   "outputs": [
    {
     "data": {
      "text/plain": [
       "(1, 5)"
      ]
     },
     "execution_count": 48,
     "metadata": {},
     "output_type": "execute_result"
    },
    {
     "data": {
      "image/png": "[encoded data removed]",
      "text/plain": [
       "<matplotlib.figure.Figure at 0x19cbb55c278>"
      ]
     },
     "metadata": {},
     "output_type": "display_data"
    }
   ],
   "source": [
    "# create a residual plot to better visualize how the line relates to the existing datapoints. \n",
    "\n",
    "plt.scatter(movies[\"Metacritic_norm_round\"],movies[\"Fandango_Stars\"])\n",
    "prd_1 = 1 * slope + intercept\n",
    "prd_2 = 2 * slope + intercept\n",
    "prd_3 = 3 * slope + intercept\n",
    "prd_4 = 4 * slope + intercept\n",
    "prd_5 = 5 * slope + intercept\n",
    "plt.plot([1,2,3,4,5],[prd_1,prd_2,prd_3,prd_4,prd_5]);\n"
   ]
  },
  {
   "cell_type": "code",
   "execution_count": null,
   "metadata": {
    "collapsed": true
   },
   "outputs": [],
   "source": []
  }
 ],
 "metadata": {
  "kernelspec": {
   "display_name": "Python 3",
   "language": "python",
   "name": "python3"
  },
  "language_info": {
   "codemirror_mode": {
    "name": "ipython",
    "version": 3
   },
   "file_extension": ".py",
   "mimetype": "text/x-python",
   "name": "python",
   "nbconvert_exporter": "python",
   "pygments_lexer": "ipython3",
   "version": "3.6.1"
  }
 },
 "nbformat": 4,
 "nbformat_minor": 2
}
