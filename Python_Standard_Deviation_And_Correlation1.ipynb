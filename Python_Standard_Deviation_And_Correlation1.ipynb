{
 "cells": [
  {
   "cell_type": "code",
   "execution_count": 1,
   "metadata": {
    "collapsed": true
   },
   "outputs": [],
   "source": [
    "# We will work on dataset from NBA. Here are the rows of the CSV file:\n",
    "# some interestign columns\n",
    "# player - The player's name\n",
    "# pts - The total number of points the player scored\n",
    "# ast - The player's total number of assists\n",
    "# fg - The player's field goal percentage for the season\n"
   ]
  },
  {
   "cell_type": "code",
   "execution_count": 11,
   "metadata": {},
   "outputs": [
    {
     "name": "stdout",
     "output_type": "stream",
     "text": [
      "4.625\n",
      "4.625\n"
     ]
    },
    {
     "data": {
      "text/plain": [
       "0.0"
      ]
     },
     "execution_count": 11,
     "metadata": {},
     "output_type": "execute_result"
    }
   ],
   "source": [
    "# compute mean of the values\n",
    "# find the differences by substracting the mean values from each element\n",
    "# compute the sum of all the mean differences and it will be equal to zero\n",
    "\n",
    "import numpy as np\n",
    "values = [2, 4, 5, -1, 0, 10, 8, 9]\n",
    "mean = sum(values)/len(values)\n",
    "print(mean)\n",
    "print(np.mean(values))\n",
    "diff = [(i-mean) for i in values]\n",
    "sum(diff)"
   ]
  },
  {
   "cell_type": "code",
   "execution_count": 14,
   "metadata": {},
   "outputs": [
    {
     "name": "stdout",
     "output_type": "stream",
     "text": [
      "4.5\n"
     ]
    },
    {
     "data": {
      "text/plain": [
       "1.0"
      ]
     },
     "execution_count": 14,
     "metadata": {},
     "output_type": "execute_result"
    }
   ],
   "source": [
    "# compute median function from numpy\n",
    "# The median is the \"middle\" value in a set of values. If we sort the values in order, it's the one in the center (or the average of the two in the center if there are an even number of items in the set).\n",
    "# Differences from the median don't always add up to 0. \n",
    "\n",
    "median= np.median(values)\n",
    "print(median)\n",
    "diff = [(i-median) for i in values]\n",
    "sum(diff)"
   ]
  },
  {
   "cell_type": "code",
   "execution_count": 29,
   "metadata": {},
   "outputs": [
    {
     "name": "stdout",
     "output_type": "stream",
     "text": [
      "5060.83731485\n"
     ]
    }
   ],
   "source": [
    "# Calucalte Variance on NBA dataset. \n",
    "# variance is caluclated by substracting every element from mean,squaring the results, and then averaging them\n",
    "import pandas as pd\n",
    "import matplotlib.pyplot as plt\n",
    "nba_data = pd.read_csv(\"Probability_and_Statistics_in_Python\\\\nba_2013.csv\")\n",
    "nba_data_mean = nba_data[\"pf\"].mean()\n",
    "sum_values = 0\n",
    "for i in nba_data[\"pf\"]:\n",
    "    substract = i - nba_data_mean\n",
    "    square = substract ** 2 # ** i python means power of the number after stars\n",
    "    sum_values += square\n",
    "    \n",
    "variance = sum_values/len(nba_data[\"pf\"])    \n",
    "print(variance)\n"
   ]
  },
  {
   "cell_type": "code",
   "execution_count": 31,
   "metadata": {},
   "outputs": [
    {
     "name": "stdout",
     "output_type": "stream",
     "text": [
      "220836.995855\n"
     ]
    }
   ],
   "source": [
    "# calcualte the variance for \"pts\" column, which holds the total number of points each player scored.\n",
    "nba_pts_mean = nba_data[\"pts\"].mean()\n",
    "sum_values = 0\n",
    "for i in nba_data[\"pts\"]:\n",
    "    substract = i - nba_pts_mean\n",
    "    square = substract ** 2 # ** i python means power of the number after stars\n",
    "    sum_values += square\n",
    "    \n",
    "pts_variance = sum_values/len(nba_data[\"pts\"])    \n",
    "print(pts_variance)"
   ]
  },
  {
   "cell_type": "code",
   "execution_count": 33,
   "metadata": {},
   "outputs": [
    {
     "name": "stdout",
     "output_type": "stream",
     "text": [
      "161051\n",
      "5.0\n",
      "4.0\n"
     ]
    }
   ],
   "source": [
    "# let's explore some more concepts\n",
    "# Raise 11 to the fifth power\n",
    "a = 11 ** 5\n",
    "print(a)\n",
    "# Take the square root of 25\n",
    "b = 25 ** (1/2)\n",
    "print(b)\n",
    "# Take the fourth root of 16\n",
    "c = 16 ** (1/2)\n",
    "print(c)\n",
    "    "
   ]
  },
  {
   "cell_type": "code",
   "execution_count": 41,
   "metadata": {},
   "outputs": [
    {
     "name": "stdout",
     "output_type": "stream",
     "text": [
      "896.32565278\n",
      "130.883290708\n"
     ]
    }
   ],
   "source": [
    "# calculate standard deviation - distance bewteen data points and mean\n",
    "# standard deviation is square root of variance.\n",
    "# standard deviation is a useful concept. Data scientists typically mesure the preentage of data within one or two standard devaitions of the man\n",
    "# calculate the standard deviation of \"mp\" minutes played column and \"ast\" assists column\n",
    "\n",
    "def calculate_sd(col):\n",
    "    mean = nba_data[col].mean()\n",
    "    length = len(nba_data[col])\n",
    "    sum_values = 0\n",
    "\n",
    "    for i in  nba_data[col]:\n",
    "        diferrence = i - mean\n",
    "        square = diferrence ** 2\n",
    "        sum_values += square\n",
    "    \n",
    "    variance = sum_values/length\n",
    "    sd = variance ** (1/2)\n",
    "    return sd\n",
    "    \n",
    "md_sd = calculate_sd(\"mp\")  \n",
    "print(md_sd)\n",
    "ast_sd = calculate_sd(\"ast\") \n",
    "print(ast_sd)\n",
    "\n",
    "\n"
   ]
  },
  {
   "cell_type": "code",
   "execution_count": 53,
   "metadata": {},
   "outputs": [
    {
     "name": "stdout",
     "output_type": "stream",
     "text": [
      "105.86902286902287\n",
      "71.2136273891327\n",
      "0.226515313464\n"
     ]
    },
    {
     "data": {
      "image/png": "[encoded data removed]",
      "text/plain": [
       "<matplotlib.figure.Figure at 0x219a01abdd8>"
      ]
     },
     "metadata": {},
     "output_type": "display_data"
    }
   ],
   "source": [
    "# compare the points in a distribution to the mean using standard deviation\n",
    "import matplotlib.pyplot as plt\n",
    "%matplotlib inline\n",
    "plt.hist(nba_data[\"pf\"])\n",
    "mean =nba_data[\"pf\"].mean()\n",
    "print(mean)\n",
    "sd = nba_data[\"pf\"].std()\n",
    "print(sd)\n",
    "plt.axvline(mean,color=\"r\");\n",
    "plt.axvline(mean - sd, color=\"g\")\n",
    "plt.axvline(mean + sd, color=\"g\");\n",
    "# calucalte how many points data point is from \n",
    "# first calucalte total distance and colour it with yellow\n",
    "total_d = nba_data[\"pf\"][0] - mean\n",
    "plt.axvline(total_d, color=\"y\")\n",
    "# Then we divide by sd to get how many sd away the point is\n",
    "sd_for_0 = total_d/sd\n",
    "print(sd_for_0)\n",
    "plt.show();\n"
   ]
  },
  {
   "cell_type": "code",
   "execution_count": 56,
   "metadata": {},
   "outputs": [
    {
     "name": "stdout",
     "output_type": "stream",
     "text": [
      "0.212473057275 0.49331818107\n"
     ]
    }
   ],
   "source": [
    "# let's calucalte for 10th and 100th element\n",
    "sd_for_10 = (nba_data[\"pf\"][9] - mean)/sd\n",
    "point_100 =  (nba_data[\"pf\"][99] - mean)/sd\n",
    "print(sd_for_10,point_100)\n",
    "\n"
   ]
  },
  {
   "cell_type": "code",
   "execution_count": 67,
   "metadata": {},
   "outputs": [
    {
     "data": {
      "image/png": "[encoded data removed]",
      "text/plain": [
       "<matplotlib.figure.Figure at 0x219a1f70e10>"
      ]
     },
     "metadata": {},
     "output_type": "display_data"
    },
    {
     "name": "stdout",
     "output_type": "stream",
     "text": [
      "[0.005140929987637018, 0.005741896463512261, 0.006405993231173363, 0.00713896157344256, 0.007946960671549468, 0.00883658651476702, 0.009814890401277867, 0.01088939685399973, 0.0120681207600643, 0.013359583527721151, 0.01477282803979336, 0.0163174321686298, 0.01800352060398127, 0.01984177473258618, 0.021843440296711782, 0.02402033254869743, 0.02638483860993323, 0.02894991673592971, 0.03172909218445733, 0.034736449381408685, 0.03798662007932486, 0.04149476720668072, 0.04527656411228545, 0.0493481689187544, 0.053726193712163375, 0.058427668311895185, 0.06346999838550102, 0.06887091769826083, 0.07464843431614311, 0.08082077061409135, 0.08740629697903182, 0.0944234591386707, 0.1018906990929518, 0.10982636967484782, 0.11824864282077163, 0.12717541168806018, 0.13662418681740757, 0.14661198660142424, 0.157155222386239, 0.16826957860075928, 0.1799698883772939, 0.19227000519710988, 0.20518267116449132, 0.21871938258225584, 0.23289025356971782, 0.24770387852997752, 0.2631671943363145, 0.27928534316654985, 0.2960615369686403, 0.31349692458962386, 0.3315904626424965, 0.35033879122083467, 0.36973611559818614, 0.3897740950676693, 0.4104417400861662, 0.4317253188863068, 0.4536082747075946, 0.4760711547750354, 0.49909155211915074, 0.5226440612850299, 0.54670024891998, 0.5712286401593591, 0.5961947216484699, 0.6215609619452206, 0.6472868499440446, 0.6733289518468644, 0.6996409870824156, 0.7261739234418367, 0.7528760915570833, 0.7796933187005449, 0.8065690817304796, 0.8334446788488631, 0.8602594196774607, 0.8869508329958511, 0.9134548913234299, 0.939706251367677, 0.9656385092049443, 0.9911844689093438, 1.0162764232017256, 1.0408464445558727, 1.0648266850745092, 1.0881496833350883, 1.1107486763060006, 1.1325579143491953, 1.1535129772564112, 1.173551089214333, 1.192611430559898, 1.210635444171395, 1.2275671343444126, 1.2433533560244299, 1.2579440923099785, 1.2712927182017482, 1.283356248653381, 1.2940955690784903, 1.3034756465848538, 1.3114657203398004, 1.318039469619393, 1.3231751582567064, 1.3268557543798412, 1.3290690245165904, 1.329807601338109, 1.3290690245165901, 1.3268557543798407, 1.3231751582567057, 1.3180394696193918, 1.3114657203397992, 1.3034756465848523, 1.2940955690784888, 1.2833562486533787, 1.271292718201746, 1.2579440923099758, 1.243353356024427, 1.2275671343444094, 1.2106354441713916, 1.1926114305598947, 1.1735510892143297, 1.1535129772564077, 1.1325579143491913, 1.1107486763059966, 1.0881496833350843, 1.064826685074505, 1.0408464445558683, 1.0162764232017214, 0.9911844689093391, 0.9656385092049399, 0.9397062513676724, 0.9134548913234252, 0.8869508329958464, 0.860259419677456, 0.8334446788488585, 0.8065690817304747, 0.7796933187005404, 0.7528760915570785, 0.726173923441832, 0.699640987082411, 0.6733289518468598, 0.6472868499440401, 0.6215609619452162, 0.5961947216484653, 0.5712286401593547, 0.5467002489199758, 0.5226440612850256, 0.4990915521191466, 0.47607115477503154, 0.45360827470759074, 0.43172531888630294, 0.4104417400861626, 0.3897740950676657, 0.36973611559818254, 0.35033879122083134, 0.33159046264249314, 0.3134969245896207, 0.29606153696863724, 0.27928534316654685, 0.26316719433631164, 0.24770387852997483, 0.23289025356971524, 0.21871938258225335, 0.20518267116448904, 0.19227000519710757, 0.17996988837729178, 0.16826957860075736, 0.15715522238623697, 0.1466119866014225, 0.13662418681740593, 0.12717541168805846, 0.11824864282077018, 0.10982636967484644, 0.10189069909295036, 0.09442345913866944, 0.08740629697903066, 0.08082077061409017, 0.07464843431614204, 0.06887091769825984, 0.06346999838550006, 0.05842766831189435, 0.05372619371216259, 0.04934816891875361, 0.045276564112284756, 0.0414947672066801, 0.03798662007932424, 0.034736449381408144, 0.03172909218445683, 0.028949916735929223, 0.026384838609932806, 0.024020332548697048, 0.02184344029671138, 0.019841774732585863, 0.018003520603980964, 0.0163174321686295, 0.014772828039793096, 0.013359583527720917, 0.012068120760064076, 0.010889396853999537, 0.009814890401277691, 0.008836586514766848, 0.007946960671549328, 0.007138961573442427, 0.006405993231173233, 0.005741896463512155]\n"
     ]
    }
   ],
   "source": [
    "# calculating Normal distribution using probability density function\n",
    "import numpy as np\n",
    "import  matplotlib.pyplot as plt\n",
    "from scipy.stats import norm\n",
    "# generate a numpy vector\n",
    "data = np.arange(-1,1,0.01)\n",
    "\n",
    "# The distribution vector is centered on 0, and will have a sd of .3\n",
    "\n",
    "probabilites = norm.pdf(data,0,0.3)\n",
    "plt.plot(data,probabilites);\n",
    "plt.axvline(0);\n",
    "plt.show()\n",
    "print(probabilites.tolist());"
   ]
  },
  {
   "cell_type": "code",
   "execution_count": 68,
   "metadata": {},
   "outputs": [
    {
     "data": {
      "text/plain": [
       "[<matplotlib.lines.Line2D at 0x219a21c0cc0>]"
      ]
     },
     "execution_count": 68,
     "metadata": {},
     "output_type": "execute_result"
    },
    {
     "data": {
      "image/png": "[encoded data removed]",
      "text/plain": [
       "<matplotlib.figure.Figure at 0x219a2094278>"
      ]
     },
     "metadata": {},
     "output_type": "display_data"
    }
   ],
   "source": [
    "# Make a normal distribution across the range that starts at -10, ends at 10, and has a mean of 0 and sd of 2\n",
    "\n",
    "plt.plot(np.arange(-10,10,.1),norm.pdf(np.arange(-10,10,.1),0,2))"
   ]
  },
  {
   "cell_type": "code",
   "execution_count": 92,
   "metadata": {},
   "outputs": [
    {
     "name": "stdout",
     "output_type": "stream",
     "text": [
      "68\n",
      "96\n",
      "100\n"
     ]
    }
   ],
   "source": [
    "# observe the distribution data. \n",
    "# About 68% will be within one standard deviation, 95% within two stadnard deviation, 99% three standard deviation\n",
    "#  lets calculate the percentage of distribution for random set of lengths\n",
    "import pandas as pd\n",
    "import numpy as np\n",
    "\n",
    "lengths_data = [36, 37, 38, 38, 39, 39, 40, 40, 40, 40, 41, 41, 41, 41, 41, 41, 42, 42, 42, 42, 42, 42, 42, 43, 43, 43, 43, 43, 43, 43, 43, 44, 44, 44, 44, 44, 44, 44, 44, 44, 45, 45, 45, 45, 45, 45, 45, 45, 45, 45, 46, 46, 46, 46, 46, 46, 46, 46, 46, 46, 47, 47, 47, 47, 47, 47, 47, 47, 47, 48, 48, 48, 48, 48, 48, 48, 48, 49, 49, 49, 49, 49, 49, 49, 50, 50, 50, 50, 50, 50, 51, 51, 51, 51, 52, 52, 53, 53, 54, 55]\n",
    "\n",
    "mean = np.mean(lengths_data)\n",
    "lengths = len(lengths_data)\n",
    "\n",
    "varainces = [(i-mean)** 2 for i in  lengths_data]\n",
    "sd = (sum(varaince)/lengths)** (1/2)\n",
    "sd_per_element = [(i-mean)/sd for i in lengths_data]\n",
    "\n",
    "def calc_per(number):\n",
    "    count = 0\n",
    "    lengths = len(sd_per_element)\n",
    "    for i in sd_per_element:\n",
    "        if i >= -number and i <= number:\n",
    "            count+=1\n",
    "    return count\n",
    "\n",
    "# calucalte the proportion of the data that's within one standard deviation of the mean\n",
    "print(calc_per(1))\n",
    "# calucalte the proportion of the data that's within two standard deviation of the mean\n",
    "print(calc_per(2))\n",
    "# calucalte the proportion of the data that's within three standard deviation of the mean\n",
    "print(calc_per(3))\n"
   ]
  },
  {
   "cell_type": "code",
   "execution_count": 93,
   "metadata": {},
   "outputs": [
    {
     "name": "stdout",
     "output_type": "stream",
     "text": [
      "0.989211400652\n",
      "0.369861731248\n"
     ]
    }
   ],
   "source": [
    "# measure coorelation using r-value\n",
    "# pearsonr fucntion will return both r and p value\n",
    "\n",
    "from scipy.stats.stats import pearsonr\n",
    "r,p = pearsonr(nba_data[\"fga\"],nba_data[\"pts\"]) # two columns strongly correlated\n",
    "print(r)\n",
    "r,p = pearsonr(nba_data[\"trb\"],nba_data[\"ast\"]) ## two columns are much less correlated\n",
    "print(r)"
   ]
  },
  {
   "cell_type": "code",
   "execution_count": 103,
   "metadata": {},
   "outputs": [
    {
     "name": "stdout",
     "output_type": "stream",
     "text": [
      "1823.35484805\n"
     ]
    }
   ],
   "source": [
    "# calcualte covariance for \"stl\" and \"pf\" columns\n",
    "\n",
    "\n",
    "import pandas as pd\n",
    "\n",
    "mean_stl = nba_data[\"stl\"].mean()\n",
    "mean_pts = nba_data[\"pf\"].mean()\n",
    "length_stl = len(nba_data[\"stl\"])\n",
    "length_pts = len(nba_data[\"pf\"])\n",
    "tot_cov = 0\n",
    "for idx,value in enumerate(nba_data[\"stl\"]):\n",
    "    covarainces = (value-mean_stl)*(nba_data[\"pf\"][idx]-mean_pts)\n",
    "    tot_cov += covarainces\n",
    "covaraince = tot_cov/length_stl\n",
    "print(covaraince)"
   ]
  },
  {
   "cell_type": "code",
   "execution_count": 116,
   "metadata": {
    "collapsed": true
   },
   "outputs": [],
   "source": [
    "# finding correlation coefficient\n",
    "from numpy import cov\n",
    "\n",
    "r_fta_blk =cov(nba_data[\"fta\"], nba_data[\"blk\"])[0,1]/(nba_data[\"fta\"].std() * nba_data[\"blk\"].std())\n",
    "r_ast_stl =cov(nba_data[\"ast\"], nba_data[\"stl\"])[0,1]/(nba_data[\"ast\"].std() * nba_data[\"stl\"].std())"
   ]
  }
 ],
 "metadata": {
  "kernelspec": {
   "display_name": "Python 3",
   "language": "python",
   "name": "python3"
  },
  "language_info": {
   "codemirror_mode": {
    "name": "ipython",
    "version": 3
   },
   "file_extension": ".py",
   "mimetype": "text/x-python",
   "name": "python",
   "nbconvert_exporter": "python",
   "pygments_lexer": "ipython3",
   "version": "3.6.1"
  }
 },
 "nbformat": 4,
 "nbformat_minor": 2
}
